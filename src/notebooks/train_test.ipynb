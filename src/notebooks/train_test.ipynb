{
 "cells": [
  {
   "cell_type": "code",
   "execution_count": 1,
   "metadata": {},
   "outputs": [
    {
     "name": "stdout",
     "output_type": "stream",
     "text": [
      "c:\\Users\\sanatbyeka\\Desktop\\calcium_scoring\n"
     ]
    }
   ],
   "source": [
    "# move to the project root folder\n",
    "%cd ../../"
   ]
  },
  {
   "cell_type": "code",
   "execution_count": 2,
   "metadata": {},
   "outputs": [
    {
     "name": "stdout",
     "output_type": "stream",
     "text": [
      "Bounding Box Center in Pixel Coordinates: [  0.         143.75440874]\n"
     ]
    }
   ],
   "source": [
    "import numpy as np\n",
    "\n",
    "# Bounding box center in world coordinates [X, Y, Z]\n",
    "bbox_center_world = np.array([35.287925720214844, 7.3646368980407715, 1867.57958984375])\n",
    "\n",
    "# Voxel spacing along each axis [X, Y, Z]\n",
    "spacing = np.array([0.37599999, 0.37599999, 3.0])\n",
    "\n",
    "# Image size [Width, Height, Slices]\n",
    "image_size = np.array([512, 512, 47])\n",
    "\n",
    "# Image origin [X, Y, Z]\n",
    "image_origin = np.array([93.57398224, -46.68701935, 1761.75])\n",
    "\n",
    "# Convert world coordinates to voxel coordinates\n",
    "bbox_center_voxel = bbox_center_world / spacing\n",
    "\n",
    "# Subtract the image origin to account for the offset\n",
    "bbox_center_voxel -= image_origin / spacing\n",
    "\n",
    "# Convert voxel coordinates to pixel coordinates\n",
    "# Ensure that the values are within the image dimensions\n",
    "bbox_center_pixel = np.clip(bbox_center_voxel[:2], 0, image_size[:2] - 1)\n",
    "\n",
    "# The 'clip' function ensures that the pixel coordinates do not exceed the image size.\n",
    "# bbox_center_pixel will contain the bounding box center in pixel coordinates.\n",
    "\n",
    "print(\"Bounding Box Center in Pixel Coordinates:\", bbox_center_pixel)\n"
   ]
  },
  {
   "cell_type": "code",
   "execution_count": 2,
   "metadata": {},
   "outputs": [],
   "source": [
    "import os\n",
    "import sys\n",
    "from pathlib import Path \n",
    "PROJECT_PATH = os.getcwd()\n",
    "\n",
    "assert PROJECT_PATH.split('\\\\')[-1] == 'calcium_scoring', print(\"Not in the calcium_scoring project root folder path\")"
   ]
  },
  {
   "cell_type": "code",
   "execution_count": 3,
   "metadata": {},
   "outputs": [],
   "source": [
    "src_dir = os.path.join(os.getcwd(), 'src')\n",
    "sys.path.append(src_dir)\n",
    "from src.visualizations import viz\n",
    "#viz.plot_imgs_bboxes(r'C:\\Users\\sanatbyeka\\Desktop\\calcium_scoring\\data\\datasets\\aorta_dataset\\images\\train', r'C:\\Users\\sanatbyeka\\Desktop\\calcium_scoring\\data\\datasets\\aorta_dataset\\labels\\train')"
   ]
  },
  {
   "cell_type": "code",
   "execution_count": 4,
   "metadata": {},
   "outputs": [],
   "source": [
    "# create yaml file\n",
    "yaml_content = f\"\"\" \n",
    "    path: aorta_dataset\n",
    "    train: images/train\n",
    "    val: images/val\n",
    "    test: images/test\n",
    "\n",
    "    names:\n",
    "        0: aorta\n",
    "\"\"\"\n",
    "\n",
    "with Path('data/datasets/aorta_dataset/data.yaml').open('w') as f:\n",
    "    f.write(yaml_content)"
   ]
  },
  {
   "cell_type": "code",
   "execution_count": 7,
   "metadata": {},
   "outputs": [
    {
     "name": "stdout",
     "output_type": "stream",
     "text": [
      "Note: you may need to restart the kernel to use updated packages.\n",
      "Note: you may need to restart the kernel to use updated packages.\n"
     ]
    }
   ],
   "source": [
    "%pip install -q \"openvino-dev>=2023.0.0\" \"nncf>=2.5.0\"\n",
    "%pip install -q \"ultralytics==8.0.171\" onnx"
   ]
  },
  {
   "cell_type": "code",
   "execution_count": 5,
   "metadata": {},
   "outputs": [
    {
     "name": "stderr",
     "output_type": "stream",
     "text": [
      "Ultralytics YOLOv8.0.171  Python-3.10.12 torch-2.0.1 CPU (Intel Core(TM) i7-8700 3.20GHz)\n",
      "Setup complete  (12 CPUs, 15.8 GB RAM, 173.1/225.9 GB disk)\n"
     ]
    }
   ],
   "source": [
    "import ultralytics\n",
    "from ultralytics import YOLO\n",
    "ultralytics.checks()"
   ]
  },
  {
   "cell_type": "code",
   "execution_count": 6,
   "metadata": {},
   "outputs": [
    {
     "name": "stdout",
     "output_type": "stream",
     "text": [
      "{'settings_version': '0.0.2', 'datasets_dir': 'c:\\\\Users\\\\sanatbyeka\\\\Desktop\\\\calcium_scoring\\\\data\\\\datasets', 'weights_dir': 'c:\\\\Users\\\\sanatbyeka\\\\Desktop\\\\calcium_scoring\\\\experiments\\\\weights', 'runs_dir': 'c:\\\\Users\\\\sanatbyeka\\\\Desktop\\\\calcium_scoring\\\\experiments\\\\runs', 'uuid': '7d30500fe42cd01dd19c778974587b169c59f5f12014fd3e5ff5e0f7e76e53e6', 'sync': True, 'api_key': '', 'clearml': True, 'comet': True, 'dvc': True, 'hub': True, 'mlflow': True, 'neptune': True, 'raytune': True, 'tensorboard': True, 'wandb': True}\n"
     ]
    }
   ],
   "source": [
    "from ultralytics import settings\n",
    "settings['datasets_dir'] = os.path.join(PROJECT_PATH, 'data\\\\datasets')\n",
    "os.makedirs(os.path.join(PROJECT_PATH, 'experiments\\\\runs'), exist_ok=True)\n",
    "os.makedirs(os.path.join(PROJECT_PATH, 'experiments\\\\weights'), exist_ok=True)\n",
    "settings['runs_dir'] =  os.path.join(PROJECT_PATH, 'experiments\\\\runs')\n",
    "settings['weights_dir'] =  os.path.join(PROJECT_PATH, 'experiments\\\\weights')\n",
    "print(settings)"
   ]
  },
  {
   "cell_type": "code",
   "execution_count": 8,
   "metadata": {},
   "outputs": [
    {
     "name": "stderr",
     "output_type": "stream",
     "text": [
      "Ultralytics YOLOv8.0.171  Python-3.10.12 torch-2.0.1 CPU (Intel Core(TM) i7-8700 3.20GHz)\n",
      "\u001b[34m\u001b[1mengine\\trainer: \u001b[0mtask=detect, mode=train, model=models//yolov8n.pt, data=data/datasets/aorta_dataset/data.yaml, epochs=3, patience=50, batch=32, imgsz=640, save=True, save_period=-1, cache=False, device=None, workers=8, project=logs//aorta_detection, name=None, exist_ok=False, pretrained=True, optimizer=Adam, verbose=True, seed=42, deterministic=True, single_cls=False, rect=False, cos_lr=True, close_mosaic=10, resume=False, amp=True, fraction=1.0, profile=False, freeze=None, overlap_mask=True, mask_ratio=4, dropout=0.0, val=True, split=val, save_json=False, save_hybrid=False, conf=None, iou=0.7, max_det=300, half=False, dnn=False, plots=True, source=None, show=False, save_txt=False, save_conf=False, save_crop=False, show_labels=True, show_conf=True, vid_stride=1, stream_buffer=False, line_width=None, visualize=False, augment=False, agnostic_nms=False, classes=None, retina_masks=False, boxes=True, format=torchscript, keras=False, optimize=False, int8=False, dynamic=False, simplify=False, opset=None, workspace=4, nms=False, lr0=0.0001, lrf=1e-05, momentum=0.937, weight_decay=0.0005, warmup_epochs=3, warmup_momentum=0.8, warmup_bias_lr=1e-06, box=7.5, cls=0.5, dfl=1.5, pose=12.0, kobj=1.0, label_smoothing=0.0, nbs=64, hsv_h=0.015, hsv_s=0.7, hsv_v=0.4, degrees=0.0, translate=0.1, scale=0.5, shear=0.0, perspective=0.0, flipud=0.0, fliplr=0.5, mosaic=1.0, mixup=0.0, copy_paste=0.0, cfg=None, tracker=botsort.yaml, save_dir=logs\\aorta_detection\\train2\n"
     ]
    },
    {
     "ename": "RuntimeError",
     "evalue": "Dataset 'data/datasets/aorta_dataset/data.yaml' error  \nDataset 'data/datasets/aorta_dataset/data.yaml' images not found , missing path 'C:\\Users\\sanatbyeka\\Desktop\\calcium_scoring\\datasets\\aorta_dataset\\images\\val'\nNote dataset download directory is 'C:\\Users\\sanatbyeka\\Desktop\\calcium_scoring\\datasets'. You can update this in 'C:\\Users\\sanatbyeka\\AppData\\Roaming\\Ultralytics\\settings.yaml'",
     "output_type": "error",
     "traceback": [
      "\u001b[1;31m---------------------------------------------------------------------------\u001b[0m",
      "\u001b[1;31mFileNotFoundError\u001b[0m                         Traceback (most recent call last)",
      "File \u001b[1;32mc:\\Users\\sanatbyeka\\anaconda3\\envs\\my_conda_env\\lib\\site-packages\\ultralytics\\engine\\trainer.py:118\u001b[0m, in \u001b[0;36mBaseTrainer.__init__\u001b[1;34m(self, cfg, overrides, _callbacks)\u001b[0m\n\u001b[0;32m    117\u001b[0m \u001b[39melif\u001b[39;00m \u001b[39mself\u001b[39m\u001b[39m.\u001b[39margs\u001b[39m.\u001b[39mdata\u001b[39m.\u001b[39msplit(\u001b[39m'\u001b[39m\u001b[39m.\u001b[39m\u001b[39m'\u001b[39m)[\u001b[39m-\u001b[39m\u001b[39m1\u001b[39m] \u001b[39min\u001b[39;00m (\u001b[39m'\u001b[39m\u001b[39myaml\u001b[39m\u001b[39m'\u001b[39m, \u001b[39m'\u001b[39m\u001b[39myml\u001b[39m\u001b[39m'\u001b[39m) \u001b[39mor\u001b[39;00m \u001b[39mself\u001b[39m\u001b[39m.\u001b[39margs\u001b[39m.\u001b[39mtask \u001b[39min\u001b[39;00m (\u001b[39m'\u001b[39m\u001b[39mdetect\u001b[39m\u001b[39m'\u001b[39m, \u001b[39m'\u001b[39m\u001b[39msegment\u001b[39m\u001b[39m'\u001b[39m, \u001b[39m'\u001b[39m\u001b[39mpose\u001b[39m\u001b[39m'\u001b[39m):\n\u001b[1;32m--> 118\u001b[0m     \u001b[39mself\u001b[39m\u001b[39m.\u001b[39mdata \u001b[39m=\u001b[39m check_det_dataset(\u001b[39mself\u001b[39;49m\u001b[39m.\u001b[39;49margs\u001b[39m.\u001b[39;49mdata)\n\u001b[0;32m    119\u001b[0m     \u001b[39mif\u001b[39;00m \u001b[39m'\u001b[39m\u001b[39myaml_file\u001b[39m\u001b[39m'\u001b[39m \u001b[39min\u001b[39;00m \u001b[39mself\u001b[39m\u001b[39m.\u001b[39mdata:\n",
      "File \u001b[1;32mc:\\Users\\sanatbyeka\\anaconda3\\envs\\my_conda_env\\lib\\site-packages\\ultralytics\\data\\utils.py:302\u001b[0m, in \u001b[0;36mcheck_det_dataset\u001b[1;34m(dataset, autodownload)\u001b[0m\n\u001b[0;32m    301\u001b[0m     m \u001b[39m+\u001b[39m\u001b[39m=\u001b[39m \u001b[39mf\u001b[39m\u001b[39m\"\u001b[39m\u001b[39m\\n\u001b[39;00m\u001b[39mNote dataset download directory is \u001b[39m\u001b[39m'\u001b[39m\u001b[39m{\u001b[39;00mDATASETS_DIR\u001b[39m}\u001b[39;00m\u001b[39m'\u001b[39m\u001b[39m. You can update this in \u001b[39m\u001b[39m'\u001b[39m\u001b[39m{\u001b[39;00mSETTINGS_YAML\u001b[39m}\u001b[39;00m\u001b[39m'\u001b[39m\u001b[39m\"\u001b[39m\n\u001b[1;32m--> 302\u001b[0m     \u001b[39mraise\u001b[39;00m \u001b[39mFileNotFoundError\u001b[39;00m(m)\n\u001b[0;32m    303\u001b[0m t \u001b[39m=\u001b[39m time\u001b[39m.\u001b[39mtime()\n",
      "\u001b[1;31mFileNotFoundError\u001b[0m: \nDataset 'data/datasets/aorta_dataset/data.yaml' images not found ⚠️, missing path 'C:\\Users\\sanatbyeka\\Desktop\\calcium_scoring\\datasets\\aorta_dataset\\images\\val'\nNote dataset download directory is 'C:\\Users\\sanatbyeka\\Desktop\\calcium_scoring\\datasets'. You can update this in 'C:\\Users\\sanatbyeka\\AppData\\Roaming\\Ultralytics\\settings.yaml'",
      "\nThe above exception was the direct cause of the following exception:\n",
      "\u001b[1;31mRuntimeError\u001b[0m                              Traceback (most recent call last)",
      "Cell \u001b[1;32mIn[8], line 9\u001b[0m\n\u001b[0;32m      6\u001b[0m PROJECT \u001b[39m=\u001b[39m \u001b[39m'\u001b[39m\u001b[39mlogs//aorta_detection\u001b[39m\u001b[39m'\u001b[39m \n\u001b[0;32m      8\u001b[0m \u001b[39m# training\u001b[39;00m\n\u001b[1;32m----> 9\u001b[0m result \u001b[39m=\u001b[39m model\u001b[39m.\u001b[39;49mtrain(\n\u001b[0;32m     10\u001b[0m    data \u001b[39m=\u001b[39;49m \u001b[39m'\u001b[39;49m\u001b[39mdata/datasets/aorta_dataset/data.yaml\u001b[39;49m\u001b[39m'\u001b[39;49m,\n\u001b[0;32m     11\u001b[0m    task \u001b[39m=\u001b[39;49m \u001b[39m'\u001b[39;49m\u001b[39mdetect\u001b[39;49m\u001b[39m'\u001b[39;49m,\n\u001b[0;32m     12\u001b[0m    epochs \u001b[39m=\u001b[39;49m \u001b[39m3\u001b[39;49m,\n\u001b[0;32m     13\u001b[0m    verbose \u001b[39m=\u001b[39;49m \u001b[39mTrue\u001b[39;49;00m,\n\u001b[0;32m     14\u001b[0m    batch \u001b[39m=\u001b[39;49m \u001b[39m32\u001b[39;49m,\n\u001b[0;32m     15\u001b[0m    imgsz \u001b[39m=\u001b[39;49m \u001b[39m640\u001b[39;49m,\n\u001b[0;32m     16\u001b[0m    patience \u001b[39m=\u001b[39;49m \u001b[39m50\u001b[39;49m,\n\u001b[0;32m     17\u001b[0m    save \u001b[39m=\u001b[39;49m \u001b[39mTrue\u001b[39;49;00m,\n\u001b[0;32m     18\u001b[0m    \u001b[39m#device = 0,\u001b[39;49;00m\n\u001b[0;32m     19\u001b[0m    project \u001b[39m=\u001b[39;49m PROJECT,\n\u001b[0;32m     20\u001b[0m    cos_lr \u001b[39m=\u001b[39;49m \u001b[39mTrue\u001b[39;49;00m,\n\u001b[0;32m     21\u001b[0m    lr0 \u001b[39m=\u001b[39;49m \u001b[39m0.0001\u001b[39;49m,\n\u001b[0;32m     22\u001b[0m    lrf \u001b[39m=\u001b[39;49m \u001b[39m0.00001\u001b[39;49m,\n\u001b[0;32m     23\u001b[0m    warmup_epochs \u001b[39m=\u001b[39;49m \u001b[39m3\u001b[39;49m,\n\u001b[0;32m     24\u001b[0m    warmup_bias_lr \u001b[39m=\u001b[39;49m \u001b[39m0.000001\u001b[39;49m,\n\u001b[0;32m     25\u001b[0m    optimizer \u001b[39m=\u001b[39;49m \u001b[39m'\u001b[39;49m\u001b[39mAdam\u001b[39;49m\u001b[39m'\u001b[39;49m,\n\u001b[0;32m     26\u001b[0m    seed \u001b[39m=\u001b[39;49m \u001b[39m42\u001b[39;49m,\n\u001b[0;32m     27\u001b[0m    save_dir\u001b[39m=\u001b[39;49msave_dir\n\u001b[0;32m     28\u001b[0m )\n",
      "File \u001b[1;32mc:\\Users\\sanatbyeka\\anaconda3\\envs\\my_conda_env\\lib\\site-packages\\ultralytics\\engine\\model.py:336\u001b[0m, in \u001b[0;36mModel.train\u001b[1;34m(self, trainer, **kwargs)\u001b[0m\n\u001b[0;32m    333\u001b[0m \u001b[39mif\u001b[39;00m args\u001b[39m.\u001b[39mget(\u001b[39m'\u001b[39m\u001b[39mresume\u001b[39m\u001b[39m'\u001b[39m):\n\u001b[0;32m    334\u001b[0m     args[\u001b[39m'\u001b[39m\u001b[39mresume\u001b[39m\u001b[39m'\u001b[39m] \u001b[39m=\u001b[39m \u001b[39mself\u001b[39m\u001b[39m.\u001b[39mckpt_path\n\u001b[1;32m--> 336\u001b[0m \u001b[39mself\u001b[39m\u001b[39m.\u001b[39mtrainer \u001b[39m=\u001b[39m (trainer \u001b[39mor\u001b[39;49;00m \u001b[39mself\u001b[39;49m\u001b[39m.\u001b[39;49msmart_load(\u001b[39m'\u001b[39;49m\u001b[39mtrainer\u001b[39;49m\u001b[39m'\u001b[39;49m))(overrides\u001b[39m=\u001b[39;49margs, _callbacks\u001b[39m=\u001b[39;49m\u001b[39mself\u001b[39;49m\u001b[39m.\u001b[39;49mcallbacks)\n\u001b[0;32m    337\u001b[0m \u001b[39mif\u001b[39;00m \u001b[39mnot\u001b[39;00m args\u001b[39m.\u001b[39mget(\u001b[39m'\u001b[39m\u001b[39mresume\u001b[39m\u001b[39m'\u001b[39m):  \u001b[39m# manually set model only if not resuming\u001b[39;00m\n\u001b[0;32m    338\u001b[0m     \u001b[39mself\u001b[39m\u001b[39m.\u001b[39mtrainer\u001b[39m.\u001b[39mmodel \u001b[39m=\u001b[39m \u001b[39mself\u001b[39m\u001b[39m.\u001b[39mtrainer\u001b[39m.\u001b[39mget_model(weights\u001b[39m=\u001b[39m\u001b[39mself\u001b[39m\u001b[39m.\u001b[39mmodel \u001b[39mif\u001b[39;00m \u001b[39mself\u001b[39m\u001b[39m.\u001b[39mckpt \u001b[39melse\u001b[39;00m \u001b[39mNone\u001b[39;00m, cfg\u001b[39m=\u001b[39m\u001b[39mself\u001b[39m\u001b[39m.\u001b[39mmodel\u001b[39m.\u001b[39myaml)\n",
      "File \u001b[1;32mc:\\Users\\sanatbyeka\\anaconda3\\envs\\my_conda_env\\lib\\site-packages\\ultralytics\\engine\\trainer.py:122\u001b[0m, in \u001b[0;36mBaseTrainer.__init__\u001b[1;34m(self, cfg, overrides, _callbacks)\u001b[0m\n\u001b[0;32m    120\u001b[0m             \u001b[39mself\u001b[39m\u001b[39m.\u001b[39margs\u001b[39m.\u001b[39mdata \u001b[39m=\u001b[39m \u001b[39mself\u001b[39m\u001b[39m.\u001b[39mdata[\u001b[39m'\u001b[39m\u001b[39myaml_file\u001b[39m\u001b[39m'\u001b[39m]  \u001b[39m# for validating 'yolo train data=url.zip' usage\u001b[39;00m\n\u001b[0;32m    121\u001b[0m \u001b[39mexcept\u001b[39;00m \u001b[39mException\u001b[39;00m \u001b[39mas\u001b[39;00m e:\n\u001b[1;32m--> 122\u001b[0m     \u001b[39mraise\u001b[39;00m \u001b[39mRuntimeError\u001b[39;00m(emojis(\u001b[39mf\u001b[39m\u001b[39m\"\u001b[39m\u001b[39mDataset \u001b[39m\u001b[39m'\u001b[39m\u001b[39m{\u001b[39;00mclean_url(\u001b[39mself\u001b[39m\u001b[39m.\u001b[39margs\u001b[39m.\u001b[39mdata)\u001b[39m}\u001b[39;00m\u001b[39m'\u001b[39m\u001b[39m error ❌ \u001b[39m\u001b[39m{\u001b[39;00me\u001b[39m}\u001b[39;00m\u001b[39m\"\u001b[39m)) \u001b[39mfrom\u001b[39;00m \u001b[39me\u001b[39;00m\n\u001b[0;32m    124\u001b[0m \u001b[39mself\u001b[39m\u001b[39m.\u001b[39mtrainset, \u001b[39mself\u001b[39m\u001b[39m.\u001b[39mtestset \u001b[39m=\u001b[39m \u001b[39mself\u001b[39m\u001b[39m.\u001b[39mget_dataset(\u001b[39mself\u001b[39m\u001b[39m.\u001b[39mdata)\n\u001b[0;32m    125\u001b[0m \u001b[39mself\u001b[39m\u001b[39m.\u001b[39mema \u001b[39m=\u001b[39m \u001b[39mNone\u001b[39;00m\n",
      "\u001b[1;31mRuntimeError\u001b[0m: Dataset 'data/datasets/aorta_dataset/data.yaml' error  \nDataset 'data/datasets/aorta_dataset/data.yaml' images not found , missing path 'C:\\Users\\sanatbyeka\\Desktop\\calcium_scoring\\datasets\\aorta_dataset\\images\\val'\nNote dataset download directory is 'C:\\Users\\sanatbyeka\\Desktop\\calcium_scoring\\datasets'. You can update this in 'C:\\Users\\sanatbyeka\\AppData\\Roaming\\Ultralytics\\settings.yaml'"
     ]
    }
   ],
   "source": [
    "save_dir = 'logs'\n",
    "# os.makedirs(save_dir, exist_ok=True)\n",
    "\n",
    "# Load a model\n",
    "model = YOLO('models//yolov8n.pt')  \n",
    "PROJECT = 'logs//aorta_detection' \n",
    "\n",
    "# training\n",
    "result = model.train(\n",
    "   data = 'data/datasets/aorta_dataset/data.yaml',\n",
    "   task = 'detect',\n",
    "   epochs = 3,\n",
    "   verbose = True,\n",
    "   batch = 32,\n",
    "   imgsz = 640,\n",
    "   patience = 50,\n",
    "   save = True,\n",
    "   #device = 0,\n",
    "   project = PROJECT,\n",
    "   cos_lr = True,\n",
    "   lr0 = 0.0001,\n",
    "   lrf = 0.00001,\n",
    "   warmup_epochs = 3,\n",
    "   warmup_bias_lr = 0.000001,\n",
    "   optimizer = 'Adam',\n",
    "   seed = 42,\n",
    "   save_dir=save_dir\n",
    ")"
   ]
  },
  {
   "cell_type": "code",
   "execution_count": null,
   "metadata": {},
   "outputs": [],
   "source": [
    "model = YOLO('aorta_detection’/experiment_yolov8/weights/best.pt')\n",
    "model.val(split='test', batch=48, imgsz=640, verbose=True, conf = 0.1, iou = 0.5)"
   ]
  },
  {
   "cell_type": "code",
   "execution_count": null,
   "metadata": {},
   "outputs": [],
   "source": [
    "# Alternatively, we can use Python SDK to validate the model performance.\n",
    "\n",
    "\n",
    "model = YOLO(\"./runs/detect/train/weights/best.pt\")\n",
    "\n",
    "# It'll use the data yaml file in model.pt if you don't set data.\n",
    "model.val(conf=0.5)\n",
    "# or you can set the data you want to val\n",
    "model.val(data=\"./datasets/boat.yaml\", conf=0.5)\n",
    " "
   ]
  }
 ],
 "metadata": {
  "kernelspec": {
   "display_name": "my_conda_env",
   "language": "python",
   "name": "python3"
  },
  "language_info": {
   "codemirror_mode": {
    "name": "ipython",
    "version": 3
   },
   "file_extension": ".py",
   "mimetype": "text/x-python",
   "name": "python",
   "nbconvert_exporter": "python",
   "pygments_lexer": "ipython3",
   "version": "3.10.12"
  },
  "orig_nbformat": 4
 },
 "nbformat": 4,
 "nbformat_minor": 2
}
